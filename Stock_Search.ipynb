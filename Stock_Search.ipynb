{
  "nbformat": 4,
  "nbformat_minor": 0,
  "metadata": {
    "colab": {
      "provenance": [],
      "authorship_tag": "ABX9TyPJ7MRJkVzx0B5k42jhpvoM",
      "include_colab_link": true
    },
    "kernelspec": {
      "name": "python3",
      "display_name": "Python 3"
    },
    "language_info": {
      "name": "python"
    }
  },
  "cells": [
    {
      "cell_type": "markdown",
      "metadata": {
        "id": "view-in-github",
        "colab_type": "text"
      },
      "source": [
        "<a href=\"https://colab.research.google.com/github/ilank-pro/SmartHotel360-Website/blob/master/Stock_Search.ipynb\" target=\"_parent\"><img src=\"https://colab.research.google.com/assets/colab-badge.svg\" alt=\"Open In Colab\"/></a>"
      ]
    },
    {
      "cell_type": "code",
      "execution_count": 31,
      "metadata": {
        "collapsed": true,
        "id": "CaWsXtEcluQb"
      },
      "outputs": [],
      "source": [
        "import yfinance as yf\n",
        "import pandas as pd\n",
        "import plotly.graph_objs as go\n",
        "from plotly.subplots import make_subplots\n",
        "from datetime import datetime, timedelta\n",
        "import matplotlib.pyplot as plt\n",
        "import numpy as np\n",
        "\n",
        "\n",
        "\n"
      ]
    },
    {
      "cell_type": "code",
      "source": [
        "\n",
        "# Step 1: Retrieve the list of Nasdaq-100 stocks\n",
        "nasdaq_100_tickers = \"\"\"\n",
        "AAPL MSFT AMZN NVDA GOOG GOOGL META TSLA PEP ADBE NFLX CSCO AVGO TXN CMCSA COST INTU SBUX AMGN QCOM AMD BKNG GILD FISV ADP MU MDLZ LRCX ADI HON LLY AMAT ISRG PYPL NOW REGN PANW ORLY TMUS CHTR ABNB ILMN ZM SNPS MRVL FTNT KLAC DXCM NXPI VRTX MS DELL BIIB WDAY EA EXC SEDG MCHP PDD ASML IDXX KDP MAR WMT CDNS ALGN MRNA OKTA PTON DOCU TEAM ZS SPLK MDB DDOG SHOP CRSP NET U DKNG SQ PATH BILL ROKU TWLO RIVN CRWD\n",
        "\"\"\"\n",
        "\n",
        "# Convert the string of tickers into a list\n",
        "tickers = nasdaq_100_tickers.split()\n",
        "\n",
        "# Step 2: Fetch historical stock price data with error handling\n",
        "valid_tickers = []\n",
        "data_dict = {}\n",
        "for ticker in tickers:\n",
        "    try:\n",
        "        data = yf.download(ticker, start=\"2024-01-01\", end=\"2024-05-18\")\n",
        "        if not data.empty and not data.Close.empty:\n",
        "            valid_tickers.append(ticker)\n",
        "            data_dict[ticker] = data\n",
        "\n",
        "    except Exception as e:\n",
        "        print(f\"Failed to download data for {ticker}: {e}\")\n"
      ],
      "metadata": {
        "collapsed": true,
        "id": "eOXxC5JsQDm0"
      },
      "execution_count": null,
      "outputs": []
    },
    {
      "cell_type": "code",
      "source": [
        "# Function to detect breakout based on multiple indicators\n",
        "def detect_breakouts(data, volume_threshold=1.5, ma_window=50, rsi_window=14, rsi_threshold=70):\n",
        "    breakout_stocks = []\n",
        "    for ticker, stock_data in data.items():\n",
        "        stock_data['Volume_MA'] = stock_data['Volume'].rolling(window=ma_window).mean()\n",
        "        stock_data['Close_MA'] = stock_data['Close'].rolling(window=ma_window).mean()\n",
        "        stock_data['RSI'] = compute_rsi(stock_data['Close'], window=rsi_window)\n",
        "\n",
        "        recent_data = stock_data.iloc[-3:]  # Last 3 days\n",
        "        if all(recent_data['Close'] > recent_data['Close_MA']) and \\\n",
        "           all(recent_data['RSI'] > rsi_threshold) and \\\n",
        "           any(recent_data['Volume'] > volume_threshold * recent_data['Volume_MA']):\n",
        "            breakout_stocks.append(ticker)\n",
        "    return breakout_stocks\n",
        "\n",
        "# Function to compute RSI\n",
        "def compute_rsi(series, window):\n",
        "    delta = series.diff(1)\n",
        "    gain = (delta.where(delta > 0, 0)).rolling(window=window).mean()\n",
        "    loss = (-delta.where(delta < 0, 0)).rolling(window=window).mean()\n",
        "    rs = gain / loss\n",
        "    rsi = 100 - (100 / (1 + rs))\n",
        "    return rsi\n",
        "\n",
        "# Step 3: Calculate breakouts using multiple indicators\n",
        "breakout_stocks = detect_breakouts(data_dict)\n",
        "print (breakout_stocks)\n"
      ],
      "metadata": {
        "colab": {
          "base_uri": "https://localhost:8080/"
        },
        "id": "X7h0Ga0gmZda",
        "outputId": "e6e6d584-35d7-4d8d-e3c7-1c2dbe66a03b"
      },
      "execution_count": 42,
      "outputs": [
        {
          "output_type": "stream",
          "name": "stdout",
          "text": [
            "['NFLX', 'DELL']\n"
          ]
        }
      ]
    },
    {
      "cell_type": "code",
      "source": [
        "# Function to detect bullish engulfing pattern in the last 5 days\n",
        "def detect_bullish_engulfing(data_dict, lookback_days=5):\n",
        "    pattern = {}\n",
        "    for ticker, data in data_dict.items():\n",
        "        bullish_engulfing_dates = []\n",
        "        if len(data) < lookback_days:\n",
        "            continue\n",
        "        recent_data = data.iloc[-lookback_days:]\n",
        "        for i in range(1, len(recent_data)):\n",
        "            prev_close = recent_data['Close'].iloc[i - 1]\n",
        "            prev_open = recent_data['Open'].iloc[i - 1]\n",
        "            curr_open = recent_data['Open'].iloc[i]\n",
        "            curr_close = recent_data['Close'].iloc[i]\n",
        "\n",
        "            if curr_open < prev_close and curr_close > prev_open:\n",
        "                bullish_engulfing_dates.append(recent_data.index[i])\n",
        "\n",
        "        if bullish_engulfing_dates:\n",
        "            pattern[ticker] = bullish_engulfing_dates\n",
        "    return pattern\n",
        "\n",
        "bullish_engulfing = detect_bullish_engulfing(data_dict)\n",
        "for ticker, dates in bullish_engulfing.items():\n",
        "    print(f\"\\n{ticker}:\")\n",
        "    for date in dates:\n",
        "        print(date)\n"
      ],
      "metadata": {
        "id": "CIu8M-sjFVC5"
      },
      "execution_count": null,
      "outputs": []
    },
    {
      "cell_type": "code",
      "source": [
        "# Function to detect Golden Cross patterns\n",
        "def detect_golden_cross(data_dict, short_window=8, long_window=50, lookback_days=10):\n",
        "    golden_crosses = {}\n",
        "    for ticker, data in data_dict.items():\n",
        "        data['Short_MA'] = data['Close'].rolling(window=short_window).mean()\n",
        "        data['Long_MA'] = data['Close'].rolling(window=long_window).mean()\n",
        "\n",
        "        # Filter data for the lookback period\n",
        "        lookback_date = datetime.now() - timedelta(days=lookback_days)\n",
        "        recent_data = data[data.index >= lookback_date]\n",
        "\n",
        "        cross_dates = []\n",
        "        for i in range(1, len(recent_data)):\n",
        "            if recent_data['Short_MA'].iloc[i] > recent_data['Long_MA'].iloc[i] and recent_data['Short_MA'].iloc[i-1] <= recent_data['Long_MA'].iloc[i-1]:\n",
        "                cross_dates.append(recent_data.index[i])\n",
        "\n",
        "        if cross_dates:\n",
        "            golden_crosses[ticker] = cross_dates\n",
        "    return golden_crosses\n",
        "\n",
        "\n",
        "golden_cross = detect_golden_cross(data_dict)\n",
        "for ticker, dates in golden_cross.items():\n",
        "    print(f\"\\n{ticker}:\")\n",
        "    for date in dates:\n",
        "        print(date)"
      ],
      "metadata": {
        "id": "MVNA3BPeF9Lt"
      },
      "execution_count": null,
      "outputs": []
    },
    {
      "cell_type": "code",
      "source": [
        "# Function to detect Bullish Flag patterns\n",
        "def detect_bullish_flag(data_dict, uptrend_length=14, flag_length=7, flag_threshold=0.02):\n",
        "    bullish_flags = {}\n",
        "    for ticker, data in data_dict.items():\n",
        "        bullish_flag_dates = []\n",
        "        if len(data) < uptrend_length + flag_length:\n",
        "            continue\n",
        "        for i in range(uptrend_length + flag_length, len(data)):\n",
        "            # Check for a strong uptrend\n",
        "            uptrend = data['Close'].iloc[i-uptrend_length:i]\n",
        "            uptrend_slope = np.polyfit(range(uptrend_length), uptrend, 1)[0]\n",
        "\n",
        "            if uptrend_slope <= 0:\n",
        "                continue\n",
        "\n",
        "            # Check for flag pattern\n",
        "            flag = data['Close'].iloc[i-flag_length:i]\n",
        "            flag_slope = np.polyfit(range(flag_length), flag, 1)[0]\n",
        "\n",
        "            if abs(flag_slope) > flag_threshold:\n",
        "                continue\n",
        "\n",
        "            # Check for breakout from the flag\n",
        "            if data['Close'].iloc[i] > max(flag):\n",
        "                bullish_flag_dates.append(data.index[i])\n",
        "\n",
        "        if bullish_flag_dates:\n",
        "            bullish_flags[ticker] = bullish_flag_dates\n",
        "    return bullish_flags\n",
        "\n",
        "\n",
        "bullish_flag = detect_bullish_flag(data_dict)\n",
        "for ticker, dates in bullish_flag.items():\n",
        "    print(f\"\\n{ticker}:\")\n",
        "    for date in dates:\n",
        "        print(date)\n"
      ],
      "metadata": {
        "id": "e03Wyr0fGloP"
      },
      "execution_count": null,
      "outputs": []
    },
    {
      "cell_type": "code",
      "source": [
        "# Function to detect the \"cup and handle\" pattern\n",
        "def detect_cup_and_handle(data):\n",
        "    cup_and_handle_stocks = []\n",
        "\n",
        "    for ticker, df in data.items():\n",
        "        if len(df) < 50:  # Ensure there's enough data\n",
        "            continue\n",
        "\n",
        "        # Identify the 'cup' part\n",
        "        df['Min20'] = df['Close'].rolling(window=20, min_periods=1).min()\n",
        "        df['Max20'] = df['Close'].rolling(window=20, min_periods=1).max()\n",
        "        df['Avg20'] = df['Close'].rolling(window=20, min_periods=1).mean()\n",
        "\n",
        "        # Find the local minimums and maximums to detect the cup\n",
        "        min_idx = df['Min20'].idxmin()\n",
        "        max_idx1 = df['Close'][:min_idx].idxmax()\n",
        "        max_idx2 = df['Close'][min_idx:].idxmax()\n",
        "\n",
        "        if max_idx1 < min_idx < max_idx2:\n",
        "            # Ensure the handle formation\n",
        "            handle_start = max_idx2\n",
        "            handle_end = df['Close'][handle_start:].idxmin()\n",
        "\n",
        "            if handle_end > handle_start:\n",
        "                # Check if the handle is formed within 20% of the cup's height\n",
        "                cup_height = df['Close'][max_idx2] - df['Close'][min_idx]\n",
        "                handle_height = df['Close'][max_idx2] - df['Close'][handle_end]\n",
        "\n",
        "                if handle_height < 0.2 * cup_height:\n",
        "                    cup_and_handle_stocks.append(ticker)\n",
        "\n",
        "                    # Plot the detected pattern\n",
        "                    plt.figure(figsize=(10, 6))\n",
        "                    plt.plot(df['Close'], label='Close Price')\n",
        "                    plt.scatter([max_idx1, min_idx, max_idx2], [df['Close'][max_idx1], df['Close'][min_idx], df['Close'][max_idx2]], color='red')\n",
        "                    plt.axvspan(min_idx, handle_end, color='gray', alpha=0.3)\n",
        "                    plt.title(f'Cup and Handle Pattern Detected in {ticker}')\n",
        "                    plt.legend()\n",
        "                    plt.show()\n",
        "\n",
        "    return cup_and_handle_stocks\n",
        "\n",
        "# Step 3: Calculate breakouts using multiple indicators\n",
        "cup_and_handle_stocks = detect_cup_and_handle(data_dict)\n",
        "print (cup_and_handle_stocks)\n"
      ],
      "metadata": {
        "id": "RIv8PTasOpZU"
      },
      "execution_count": null,
      "outputs": []
    },
    {
      "cell_type": "code",
      "source": [
        "# Function to plot candlestick charts with volume for a list of stocks\n",
        "def plot_candlestick_with_volume(data_dict, stock_list, title='pattern_type'):\n",
        "    three_months_ago = datetime.now() - timedelta(days=90)\n",
        "    for ticker in stock_list:\n",
        "        if ticker in data_dict:\n",
        "            stock_data = data_dict[ticker][['Open', 'High', 'Low', 'Close', 'Volume']].dropna()\n",
        "            stock_data = stock_data[stock_data.index >= three_months_ago]\n",
        "\n",
        "            fig = make_subplots(rows=2, cols=1, shared_xaxes=True, vertical_spacing=0.02,\n",
        "                                subplot_titles=(f'Candlestick Chart for {ticker}', 'Volume'),\n",
        "                                row_width=[0.2, 0.7])\n",
        "\n",
        "            fig.add_trace(go.Candlestick(\n",
        "                x=stock_data.index,\n",
        "                open=stock_data['Open'],\n",
        "                high=stock_data['High'],\n",
        "                low=stock_data['Low'],\n",
        "                close=stock_data['Close'],\n",
        "                name=ticker\n",
        "            ), row=1, col=1)\n",
        "\n",
        "            fig.add_trace(go.Bar(\n",
        "                x=stock_data.index,\n",
        "                y=stock_data['Volume'],\n",
        "                name='Volume',\n",
        "                marker_color='blue'\n",
        "            ), row=2, col=1)\n",
        "\n",
        "            fig.update_layout(\n",
        "                title=title, # f'Candlestick Chart for {ticker}',\n",
        "                #xaxis_title='Date',\n",
        "                yaxis_title='Price',\n",
        "                xaxis2_title='Date',\n",
        "                yaxis2_title='Volume',\n",
        "                xaxis_rangeslider_visible=False,\n",
        "                width=1200,  # Increase the width for bigger candles\n",
        "                height=400,  # Increase the height for bigger candles\n",
        "                margin=dict(l=20, r=20, t=40, b=20),\n",
        "                font=dict(size=14)\n",
        "            )\n",
        "\n",
        "            fig.show()"
      ],
      "metadata": {
        "id": "bUouTvMSmGrz"
      },
      "execution_count": 47,
      "outputs": []
    },
    {
      "cell_type": "code",
      "source": [
        "# Plot the candlestick charts with volume for the selected breakout stocks\n",
        "plot_candlestick_with_volume(data_dict, breakout_stocks, 'breakout_stocks')\n",
        "plot_candlestick_with_volume(data_dict, cup_and_handle_stocks, 'cup_and_handle_stocks')\n",
        "\n",
        "plot_candlestick_with_volume(data_dict, golden_cross, 'golden_cross')\n",
        "plot_candlestick_with_volume(data_dict, bullish_engulfing, 'bullish_engulfing')\n",
        "plot_candlestick_with_volume(data_dict, breakout_stocks, 'breakout_stocks')\n",
        "plot_candlestick_with_volume(data_dict, bullish_flag, 'bullish_flag')\n",
        "\n"
      ],
      "metadata": {
        "id": "2r4r0mcGOKkM"
      },
      "execution_count": null,
      "outputs": []
    }
  ]
}